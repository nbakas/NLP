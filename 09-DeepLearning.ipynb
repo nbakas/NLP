{
  "cells": [
    {
      "cell_type": "code",
      "execution_count": null,
      "id": "2bd29581",
      "metadata": {
        "id": "2bd29581"
      },
      "outputs": [],
      "source": [
        "import torch\n",
        "import torch.nn as nn\n",
        "import torch.optim as optim\n",
        "from torch.utils.data import DataLoader\n",
        "from datasets import load_dataset\n",
        "import matplotlib.pyplot as plt\n",
        "from collections import Counter\n",
        "import random\n",
        "import numpy as np"
      ]
    },
    {
      "cell_type": "code",
      "execution_count": 2,
      "id": "dSSIppOb5nVW",
      "metadata": {
        "id": "dSSIppOb5nVW"
      },
      "outputs": [],
      "source": [
        "torch.manual_seed(42)\n",
        "torch.cuda.manual_seed_all(42)\n",
        "random.seed(42)\n",
        "np.random.seed(42)"
      ]
    },
    {
      "cell_type": "code",
      "execution_count": 3,
      "id": "f1035b53",
      "metadata": {
        "id": "f1035b53"
      },
      "outputs": [],
      "source": [
        "df_summary = 0"
      ]
    },
    {
      "cell_type": "code",
      "execution_count": 4,
      "id": "ed2eb4e2",
      "metadata": {},
      "outputs": [],
      "source": [
        "df_score = 0"
      ]
    },
    {
      "cell_type": "code",
      "execution_count": null,
      "id": "4c0788b0",
      "metadata": {
        "id": "4c0788b0"
      },
      "outputs": [],
      "source": [
        "# This code is downloading the notebook from GitHub and running it\n",
        "import requests\n",
        "from pathlib import Path\n",
        "url = \"https://raw.githubusercontent.com/nbakas/NLP/refs/heads/main/02-Preprocessing.ipynb\"\n",
        "filename = url.split(\"/\")[-1]\n",
        "local_path = Path.cwd() / filename\n",
        "response = requests.get(url)\n",
        "response.raise_for_status()\n",
        "local_path.write_bytes(response.content)\n",
        "%run $local_path"
      ]
    },
    {
      "cell_type": "code",
      "execution_count": 6,
      "id": "c96f2fbd",
      "metadata": {},
      "outputs": [],
      "source": [
        "import torch\n",
        "import torch.nn as nn\n",
        "import torch.optim as optim\n",
        "from torch.utils.data import Dataset, DataLoader\n",
        "from sklearn.model_selection import train_test_split\n",
        "from sklearn.preprocessing import LabelEncoder\n",
        "from collections import Counter\n",
        "import numpy as np"
      ]
    },
    {
      "cell_type": "markdown",
      "id": "aec6e50d",
      "metadata": {},
      "source": [
        "# Example preprocessing: tokenize and build vocab"
      ]
    },
    {
      "cell_type": "code",
      "execution_count": 7,
      "id": "17bbf068",
      "metadata": {},
      "outputs": [],
      "source": [
        "class TextDataset(Dataset):\n",
        "    def __init__(self, texts, labels, vocab=None, max_len=20):\n",
        "        self.max_len = max_len\n",
        "        self.texts = [t.lower().split() for t in texts]\n",
        "        self.labels = labels\n",
        "\n",
        "        if vocab is None:\n",
        "            counter = Counter(word for text in self.texts for word in text)\n",
        "            self.vocab = {word: idx + 2 for idx, (word, _) in enumerate(counter.most_common())}  # 0: pad, 1: unk\n",
        "            self.vocab['<PAD>'] = 0\n",
        "            self.vocab['<UNK>'] = 1\n",
        "        else:\n",
        "            self.vocab = vocab\n",
        "\n",
        "    def __len__(self):\n",
        "        return len(self.labels)\n",
        "\n",
        "    def encode_text(self, text):\n",
        "        ids = [self.vocab.get(word, self.vocab['<UNK>']) for word in text]\n",
        "        if len(ids) < self.max_len:\n",
        "            ids += [self.vocab['<PAD>']] * (self.max_len - len(ids))\n",
        "        else:\n",
        "            ids = ids[:self.max_len]\n",
        "        return torch.tensor(ids)\n",
        "\n",
        "    def __getitem__(self, idx):\n",
        "        text = self.encode_text(self.texts[idx])\n",
        "        label = torch.tensor(self.labels[idx] - 1)  # Assuming scores are 1-5, make them 0-4\n",
        "        return text, label"
      ]
    },
    {
      "cell_type": "markdown",
      "id": "d5ec97bb",
      "metadata": {},
      "source": [
        "# Model"
      ]
    },
    {
      "cell_type": "code",
      "execution_count": 8,
      "id": "f8425209",
      "metadata": {},
      "outputs": [],
      "source": [
        "class DLModel(nn.Module):\n",
        "    def __init__(self, vocab_size, embed_dim, hidden_dim, output_dim, model_type='RNN', dropout_prob=0.5):\n",
        "        super().__init__()\n",
        "        # This layer automatically learns word embeddings during training, so you just need to convert your text into lists of token indices — which your TextDataset already does in encode_text().\n",
        "        self.embedding = nn.Embedding(vocab_size, embed_dim)\n",
        "\n",
        "        if model_type == 'RNN':\n",
        "            self.rnn = nn.RNN(embed_dim, hidden_dim, batch_first=True)\n",
        "        elif model_type == 'LSTM':\n",
        "            self.rnn = nn.LSTM(embed_dim, hidden_dim, batch_first=True)\n",
        "        elif model_type == 'GRU':\n",
        "            self.rnn = nn.GRU(embed_dim, hidden_dim, batch_first=True)\n",
        "        else:\n",
        "            raise ValueError('model_type must be RNN, LSTM, or GRU')\n",
        "\n",
        "        self.dropout = nn.Dropout(dropout_prob)\n",
        "        self.fc = nn.Linear(hidden_dim, output_dim)\n",
        "\n",
        "    def forward(self, x):\n",
        "        embedded = self.embedding(x)\n",
        "        output, hidden = self.rnn(embedded)\n",
        "\n",
        "        if isinstance(hidden, tuple):  # LSTM gives (hidden_state, cell_state)\n",
        "            hidden = hidden[0]\n",
        "\n",
        "        hidden = self.dropout(hidden.squeeze(0))\n",
        "        out = self.fc(hidden)\n",
        "        return out"
      ]
    },
    {
      "cell_type": "markdown",
      "id": "a7b9029a",
      "metadata": {},
      "source": [
        "# Prepare data"
      ]
    },
    {
      "cell_type": "code",
      "execution_count": null,
      "id": "4864a2b3",
      "metadata": {},
      "outputs": [],
      "source": [
        "texts = df_summary.tolist()\n",
        "texts[:5]"
      ]
    },
    {
      "cell_type": "code",
      "execution_count": null,
      "id": "6ad17e9d",
      "metadata": {},
      "outputs": [],
      "source": [
        "labels = df_score.astype(int).tolist()\n",
        "labels[:5]"
      ]
    },
    {
      "cell_type": "code",
      "execution_count": 11,
      "id": "7cc7ace9",
      "metadata": {},
      "outputs": [],
      "source": [
        "train_texts, test_texts, train_labels, test_labels = train_test_split(texts, labels, test_size=0.2, random_state=42)"
      ]
    },
    {
      "cell_type": "code",
      "execution_count": 12,
      "id": "e435f900",
      "metadata": {},
      "outputs": [],
      "source": [
        "train_dataset = TextDataset(train_texts, train_labels)\n",
        "test_dataset = TextDataset(test_texts, test_labels, vocab=train_dataset.vocab)\n",
        "\n",
        "train_loader = DataLoader(train_dataset, batch_size=16, shuffle=True)\n",
        "test_loader = DataLoader(test_dataset, batch_size=16)"
      ]
    },
    {
      "cell_type": "markdown",
      "id": "5ce1a59c",
      "metadata": {},
      "source": [
        "# Hyperparameters"
      ]
    },
    {
      "cell_type": "code",
      "execution_count": 13,
      "id": "6a2ff6a4",
      "metadata": {},
      "outputs": [],
      "source": [
        "vocab_size = len(train_dataset.vocab)\n",
        "embed_dim = 384\n",
        "hidden_dim = 128\n",
        "output_dim = 5  # 5 classes (1-5 stars)\n",
        "model_type = 'LSTM'  # <-- CHANGE HERE to 'RNN' or 'GRU'"
      ]
    },
    {
      "cell_type": "markdown",
      "id": "78c6135e",
      "metadata": {},
      "source": [
        "# Model, loss, optimizer"
      ]
    },
    {
      "cell_type": "code",
      "execution_count": 14,
      "id": "ea078934",
      "metadata": {},
      "outputs": [],
      "source": [
        "device = torch.device('cuda' if torch.cuda.is_available() else 'cpu')\n",
        "model = DLModel(vocab_size, embed_dim, hidden_dim, output_dim, model_type).to(device)\n",
        "\n",
        "criterion = nn.CrossEntropyLoss()\n",
        "optimizer = optim.Adam(model.parameters())"
      ]
    },
    {
      "cell_type": "code",
      "execution_count": null,
      "id": "5fc1ab96",
      "metadata": {},
      "outputs": [],
      "source": [
        "device"
      ]
    },
    {
      "cell_type": "code",
      "execution_count": 15,
      "id": "413a5c3f",
      "metadata": {},
      "outputs": [],
      "source": [
        "nof_epochs = 10"
      ]
    },
    {
      "cell_type": "code",
      "execution_count": 16,
      "id": "bc8c4a2f",
      "metadata": {},
      "outputs": [],
      "source": [
        "import time\n",
        "start_time = time.time()"
      ]
    },
    {
      "cell_type": "code",
      "execution_count": 17,
      "id": "9bf3ac3c",
      "metadata": {},
      "outputs": [],
      "source": [
        "train_accuracies = []\n",
        "test_accuracies = []\n",
        "train_losses = []\n",
        "test_losses = []"
      ]
    },
    {
      "cell_type": "markdown",
      "id": "41440ce8",
      "metadata": {},
      "source": [
        "# Training loop"
      ]
    },
    {
      "cell_type": "code",
      "execution_count": null,
      "id": "5kpgkWGbp02W",
      "metadata": {
        "id": "5kpgkWGbp02W"
      },
      "outputs": [],
      "source": [
        "for epoch in range(nof_epochs):\n",
        "    model.train()\n",
        "    train_loss = 0\n",
        "    for idx, (inputs, targets) in enumerate(train_loader):\n",
        "        inputs, targets = inputs.to(device), targets.to(device)\n",
        "\n",
        "        optimizer.zero_grad()\n",
        "        outputs = model(inputs)\n",
        "        loss = criterion(outputs, targets)\n",
        "        loss.backward()\n",
        "        optimizer.step()\n",
        "\n",
        "        train_loss += loss.item()\n",
        "\n",
        "        if idx % 100 == 0:\n",
        "            print(f\"Epoch {epoch+1}, Batch {idx+1}/{len(train_loader)}, Train Loss: {train_loss/(idx+1):.4f}, Elapsed: {(time.time() - start_time)/60:.5f} min\")\n",
        "    train_loss = train_loss / len(train_loader)\n",
        "    train_losses.append(train_loss)\n",
        "    \n",
        "    # Initialize variables to track test loss and correct predictions\n",
        "    test_loss = 0\n",
        "    correct_train = 0\n",
        "    correct_test = 0\n",
        "    total_train = 0\n",
        "    total_test = 0\n",
        "\n",
        "    # Calculate train accuracy\n",
        "    model.eval()\n",
        "    with torch.no_grad():\n",
        "        for inputs, targets in train_loader:\n",
        "            inputs, targets = inputs.to(device), targets.to(device)\n",
        "            outputs = model(inputs)\n",
        "            preds = outputs.argmax(dim=1)\n",
        "            correct_train += (preds == targets).sum().item()\n",
        "            total_train += targets.size(0)\n",
        "    train_accuracy = correct_train / total_train\n",
        "    train_accuracies.append(train_accuracy)\n",
        "\n",
        "    # Calculate test loss and accuracy\n",
        "    with torch.no_grad():\n",
        "        for inputs, targets in test_loader:\n",
        "            inputs, targets = inputs.to(device), targets.to(device)\n",
        "            outputs = model(inputs)\n",
        "            loss = criterion(outputs, targets)\n",
        "            test_loss += loss.item()\n",
        "            preds = outputs.argmax(dim=1)\n",
        "            correct_test += (preds == targets).sum().item()\n",
        "            total_test += targets.size(0)\n",
        "    test_loss /= len(test_loader)\n",
        "    test_losses.append(test_loss)\n",
        "    test_accuracy = correct_test / total_test\n",
        "    test_accuracies.append(test_accuracy)\n",
        "\n",
        "    print(f\"Epoch {epoch+1}, Train Loss: {train_loss:.4f}, Test Loss: {test_loss:.4f}, Train Accuracy: {train_accuracy:.4f}, Test Accuracy: {test_accuracy:.4f}\")\n"
      ]
    },
    {
      "cell_type": "code",
      "execution_count": null,
      "id": "86556a56",
      "metadata": {},
      "outputs": [],
      "source": [
        "import matplotlib.pyplot as plt\n",
        "\n",
        "# Plot training and test loss\n",
        "plt.figure(figsize=(10, 2))\n",
        "plt.plot(train_losses, label='Train Loss')\n",
        "plt.plot(test_losses, label='Test Loss')\n",
        "plt.title('Loss over Epochs')\n",
        "plt.xlabel('Epoch')\n",
        "plt.ylabel('Loss')\n",
        "plt.legend()\n",
        "plt.show()\n",
        "\n",
        "# Plot training and test accuracy\n",
        "plt.figure(figsize=(10, 2))\n",
        "plt.plot(train_accuracies, label='Train Accuracy')\n",
        "plt.plot(test_accuracies, label='Test Accuracy')\n",
        "plt.title('Accuracy over Epochs')\n",
        "plt.xlabel('Epoch')\n",
        "plt.ylabel('Accuracy')\n",
        "plt.legend()\n",
        "plt.show()\n"
      ]
    },
    {
      "cell_type": "markdown",
      "id": "5070b4ca",
      "metadata": {},
      "source": [
        "# Test accuracy"
      ]
    },
    {
      "cell_type": "code",
      "execution_count": null,
      "id": "f8b3a996",
      "metadata": {},
      "outputs": [],
      "source": [
        "from sklearn.metrics import classification_report\n",
        "# Test + collect predictions\n",
        "model.eval()\n",
        "all_preds = []\n",
        "all_targets = []\n",
        "\n",
        "with torch.no_grad():\n",
        "    for inputs, targets in test_loader:\n",
        "        inputs, targets = inputs.to(device), targets.to(device)\n",
        "        outputs = model(inputs)\n",
        "        preds = outputs.argmax(dim=1)\n",
        "        \n",
        "        all_preds.extend(preds.cpu().numpy())\n",
        "        all_targets.extend(targets.cpu().numpy())\n",
        "\n",
        "# Print classification report\n",
        "print(classification_report(all_targets, all_preds, digits=4))\n"
      ]
    },
    {
      "cell_type": "code",
      "execution_count": null,
      "id": "b9ad722b",
      "metadata": {},
      "outputs": [],
      "source": []
    }
  ],
  "metadata": {
    "accelerator": "GPU",
    "colab": {
      "gpuType": "T4",
      "provenance": [],
      "toc_visible": true
    },
    "kernelspec": {
      "display_name": "Python 3",
      "name": "python3"
    },
    "language_info": {
      "codemirror_mode": {
        "name": "ipython",
        "version": 3
      },
      "file_extension": ".py",
      "mimetype": "text/x-python",
      "name": "python",
      "nbconvert_exporter": "python",
      "pygments_lexer": "ipython3",
      "version": "3.12.6"
    }
  },
  "nbformat": 4,
  "nbformat_minor": 5
}
