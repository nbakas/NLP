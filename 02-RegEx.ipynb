{
 "cells": [
  {
   "cell_type": "markdown",
   "metadata": {},
   "source": [
    "# Regular Expressions (RegEx) Cheat Sheet with Examples"
   ]
  },
  {
   "cell_type": "code",
   "execution_count": 1,
   "metadata": {},
   "outputs": [],
   "source": [
    "import re"
   ]
  },
  {
   "cell_type": "markdown",
   "metadata": {},
   "source": [
    "# 1. Basic Patterns"
   ]
  },
  {
   "cell_type": "code",
   "execution_count": null,
   "metadata": {},
   "outputs": [],
   "source": [
    "# \\d - Matches any digit (0-9). It will return a list of all the digits in the string.\n",
    "print(re.findall(r'\\d', 'I have 3 apples and 5 oranges'))  "
   ]
  },
  {
   "cell_type": "code",
   "execution_count": null,
   "metadata": {},
   "outputs": [],
   "source": [
    "# \\w - Matches any alphanumeric character (a-z, A-Z, 0-9, _)\n",
    "print(re.findall(r'\\w', 'Hello, World!+@'))  "
   ]
  },
  {
   "cell_type": "code",
   "execution_count": null,
   "metadata": {},
   "outputs": [],
   "source": [
    "# \\s - Matches any whitespace character (space, tab, newline)\n",
    "print(re.findall(r'\\s', 'Hello World\\tTab\\nNewline'))  "
   ]
  },
  {
   "cell_type": "code",
   "execution_count": null,
   "metadata": {},
   "outputs": [],
   "source": [
    "# . - Matches any character between two characters except newline\n",
    "# This will return a list of all substrings that match the pattern\n",
    "print(re.findall(r'h.t', 'hit hat hot hut but h+t h\\tt h\\nt'))  "
   ]
  },
  {
   "cell_type": "markdown",
   "metadata": {},
   "source": [
    "# 2. Quantifiers"
   ]
  },
  {
   "cell_type": "code",
   "execution_count": null,
   "metadata": {},
   "outputs": [],
   "source": [
    "# * - Matches 0 or more occurrences of the preceding character or group\n",
    "# It will return a list of all substrings that match the pattern\n",
    "print(re.findall(r'ab*c', 'ac abc abbc fgt abcc'))  \n",
    "print(re.findall(r'ab*', 'a ab abb abbb'))"
   ]
  },
  {
   "cell_type": "code",
   "execution_count": null,
   "metadata": {},
   "outputs": [],
   "source": [
    "# + - The + quantifier applies to the character or group immediately preceding it.\n",
    "# + requires at least one occurrence of the preceding element.\n",
    "# * allows for zero or more occurrences, meaning the element can be completely absent and still result in a match.\n",
    "print(re.findall(r'ab+c', 'ac abc abbc fgt abcc'))  \n",
    "print(re.findall(r'ab+', 'a ab abb abbb'))"
   ]
  },
  {
   "cell_type": "code",
   "execution_count": null,
   "metadata": {},
   "outputs": [],
   "source": [
    "# ? - means the preceding character is optional (0 or 1 times)\n",
    "print(re.findall(r'colou?r', 'color colour'))  "
   ]
  },
  {
   "cell_type": "code",
   "execution_count": null,
   "metadata": {},
   "outputs": [],
   "source": [
    "# {n} - matches exactly n occurrences of the preceding pattern\n",
    "print(re.findall(r'\\d{3}', '123 456 78'))  # matches 3 digits in a row"
   ]
  },
  {
   "cell_type": "code",
   "execution_count": null,
   "metadata": {},
   "outputs": [],
   "source": [
    "# {n,m} - matches between n and m occurrences\n",
    "print(re.findall(r'\\d{2,4}', '0 12 345 6789 101112 13141516'))  # matches 2 - 4 digits in a row"
   ]
  },
  {
   "cell_type": "code",
   "execution_count": null,
   "metadata": {},
   "outputs": [],
   "source": [
    "# [abc] - matches any one character from the set\n",
    "print(re.findall(r'[aeiou]', 'hello world'))  # matches vowels"
   ]
  },
  {
   "cell_type": "code",
   "execution_count": null,
   "metadata": {},
   "outputs": [],
   "source": [
    "# [^abc] - matches any one character NOT in the set\n",
    "print(re.findall(r'[^aeiou]', 'hello'))  # matches non-vowel characters"
   ]
  },
  {
   "cell_type": "code",
   "execution_count": null,
   "metadata": {},
   "outputs": [],
   "source": [
    "# [a-z] - matches any one character in the range\n",
    "print(re.findall(r'[a-c]', 'abcdefgAB'))  # matches a, b, or c"
   ]
  },
  {
   "cell_type": "code",
   "execution_count": null,
   "metadata": {},
   "outputs": [],
   "source": [
    "# ^ - matches the start of the string\n",
    "print(re.findall(r'^hello', 'hello world\\nhello there'))  # matches 'hello' only if at the start"
   ]
  },
  {
   "cell_type": "code",
   "execution_count": null,
   "metadata": {},
   "outputs": [],
   "source": [
    "# $ - matches the end of the string\n",
    "print(re.findall(r'world$', 'hello world\\nbye world'))  # matches 'world' only if at the end"
   ]
  },
  {
   "cell_type": "code",
   "execution_count": null,
   "metadata": {},
   "outputs": [],
   "source": [
    "# The parentheses () create a capturing group that extracts matched portions\n",
    "# Multiple groups like (abc)-(def) capture separate parts of a pattern\n",
    "# \\d+ matches one or more digits (0-9)\n",
    "# In the example below, (\\d+)-(\\d+) captures two groups of digits separated by a hyphen\n",
    "my_str = 'Order: 123-456 has been processed but 789-012 is pending'\n",
    "match = re.search(r'(\\d+)-(\\d+)', my_str)\n",
    "print(match.groups())  # returns matched groups"
   ]
  },
  {
   "cell_type": "code",
   "execution_count": null,
   "metadata": {},
   "outputs": [],
   "source": [
    "# If you want to find all occurrences of the pattern in the string, you should use re.findall\n",
    "matches = re.findall(r'(\\d+)-(\\d+)', my_str)\n",
    "for match in matches:\n",
    "    print(match) "
   ]
  },
  {
   "cell_type": "code",
   "execution_count": null,
   "metadata": {},
   "outputs": [],
   "source": [
    "# | - means OR between patterns\n",
    "\n",
    "# The re.search function finds the first occurrence of either \"cat\" or \"dog\"\n",
    "match = re.search(r'cat|dog', 'I have a cat and a dog, and another cat')\n",
    "print(match.group())  \n",
    "\n",
    "# The re.findall function finds all occurrences of either \"cat\" or \"dog\"\n",
    "matches = re.findall(r'cat|dog', 'I have a cat and a dog, and another cat')\n",
    "print(matches)  \n",
    "\n",
    "# Use a set to get unique matches\n",
    "unique_matches = set(matches)\n",
    "print(unique_matches)"
   ]
  },
  {
   "cell_type": "code",
   "execution_count": null,
   "metadata": {},
   "outputs": [],
   "source": [
    "# Email pattern:\n",
    "# ^ - Asserts position at the start of the string\n",
    "# [\\w\\.-]+ - Matches one or more word characters (a-z, A-Z, 0-9, _), dots, or hyphens for the username part\n",
    "# @ - Matches the @ symbol that separates username from domain\n",
    "# [\\w\\.-]+ - Matches one or more word characters, dots, or hyphens for the domain name\n",
    "# \\. - Matches a literal dot (escaped with \\) that separates domain name from TLD\n",
    "# \\w+ - Matches one or more word characters for the top-level domain (com, org, etc.)\n",
    "# $ - Asserts position at the end of the string, ensuring the entire string is an email\n",
    "email_pattern = r'^[\\w\\.-]+@[\\w\\.-]+\\.\\w+$'\n",
    "print(re.match(email_pattern, 'user@example.com').group())  # matches a valid email"
   ]
  },
  {
   "cell_type": "code",
   "execution_count": null,
   "metadata": {},
   "outputs": [],
   "source": [
    "# https?://[^\\s]+ - matches http or https URLs\n",
    "url_pattern = r'https?://[^\\s]+'\n",
    "print(re.findall(url_pattern, 'Visit https://example.com or http://test.org'))  # matches URLs"
   ]
  },
  {
   "cell_type": "code",
   "execution_count": null,
   "metadata": {},
   "outputs": [],
   "source": [
    "# You can use the re.sub function to replace all occurrences of a pattern with a new string\n",
    "print(re.sub(url_pattern, 'URL', 'Visit https://example.com or http://test.org'))  # replaces URLs with 'URL'"
   ]
  },
  {
   "cell_type": "code",
   "execution_count": null,
   "metadata": {},
   "outputs": [],
   "source": [
    "# Phone number pattern:\n",
    "# \\(? - Matches an optional opening parenthesis\n",
    "# \\d{3} - Matches exactly 3 digits (area code)\n",
    "# \\)? - Matches an optional closing parenthesis\n",
    "# [-.\\s]? - Matches an optional separator (hyphen, dot, or whitespace)\n",
    "# \\d{3} - Matches exactly 3 digits (prefix)\n",
    "# [-.\\s]? - Matches an optional separator (hyphen, dot, or whitespace)\n",
    "# \\d{4} - Matches exactly 4 digits (line number)\n",
    "# This pattern matches US phone numbers in formats like (123) 456-7890, 123-456-7890, or 123.456.7890\n",
    "phone_pattern = r'\\(?\\d{3}\\)?[-.\\s]?\\d{3}[-.\\s]?\\d{4}'\n",
    "print(re.findall(phone_pattern, 'Call (123) 456-7890 or 987.654.3210'))  # matches phone numbers"
   ]
  },
  {
   "cell_type": "code",
   "execution_count": null,
   "metadata": {},
   "outputs": [],
   "source": [
    "# Decimal number pattern:\n",
    "# \\d+ - Matches one or more digits before the decimal point\n",
    "# \\. - Matches a literal dot (escaped with \\) since dot is a special character in regex that matches any character\n",
    "# \\d+ - Matches one or more digits after the decimal point\n",
    "# This pattern will find numbers like 10.99, 3.14, 0.5, etc. in text\n",
    "print(re.findall(r'\\d+\\.\\d+', 'Price: 10.99'))  # matches decimal numbers (finds \"10.99\")"
   ]
  }
 ],
 "metadata": {
  "kernelspec": {
   "display_name": "Python 3",
   "language": "python",
   "name": "python3"
  },
  "language_info": {
   "codemirror_mode": {
    "name": "ipython",
    "version": 3
   },
   "file_extension": ".py",
   "mimetype": "text/x-python",
   "name": "python",
   "nbconvert_exporter": "python",
   "pygments_lexer": "ipython3",
   "version": "3.12.6"
  }
 },
 "nbformat": 4,
 "nbformat_minor": 2
}
