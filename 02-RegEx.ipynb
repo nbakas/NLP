{
 "cells": [
  {
   "cell_type": "markdown",
   "metadata": {},
   "source": [
    "# Regular Expressions (RegEx) Cheat Sheet with Examples"
   ]
  },
  {
   "cell_type": "code",
   "execution_count": 2,
   "metadata": {},
   "outputs": [],
   "source": [
    "# re is a module in Python that provides support for regular expressions. It is a powerful tool for pattern matching and text manipulation.\n",
    "import re"
   ]
  },
  {
   "cell_type": "markdown",
   "metadata": {},
   "source": [
    "# Basic Patterns"
   ]
  },
  {
   "cell_type": "code",
   "execution_count": null,
   "metadata": {},
   "outputs": [],
   "source": [
    "# \\d - Matches any digit (0-9). It will return a list of all the digits in the string.\n",
    "# In the followng code, the r before the string is used to treat the string as a raw string,\n",
    "# meaning that backslashes are not interpreted as escape characters.\n",
    "print(re.findall(r'\\d', 'I have 3 apples and 5 oranges'))  "
   ]
  },
  {
   "cell_type": "code",
   "execution_count": null,
   "metadata": {},
   "outputs": [],
   "source": [
    "# \\w - Matches any alphanumeric character (a-z, A-Z, 0-9, _)\n",
    "print(re.findall(r'\\w', 'Hello, World!+@'))  \n",
    "print(re.findall(r'\\w', 'This is one (1) underscore (_) and one (1) dash (-)'))  \n",
    "# If we use search, it will return the first match only\n",
    "match = re.search(r'\\w', 'Hello, World!+@') \n",
    "print(match.group()) "
   ]
  },
  {
   "cell_type": "code",
   "execution_count": null,
   "metadata": {},
   "outputs": [],
   "source": [
    "# \\s - Matches any whitespace character (space, tab, newline)\n",
    "print(re.findall(r'\\s', 'Hello World\\tTab\\nNewline'))  "
   ]
  },
  {
   "cell_type": "code",
   "execution_count": null,
   "metadata": {},
   "outputs": [],
   "source": [
    "# . - Matches any character between two characters except newline\n",
    "# This will return a list of all substrings that match the pattern\n",
    "print(re.findall(r'h.t', 'hit hat HAT Hat hot but h+t h\\tt h\\nt heat height hotel'))  "
   ]
  },
  {
   "cell_type": "markdown",
   "metadata": {},
   "source": [
    "# Quantifiers"
   ]
  },
  {
   "cell_type": "code",
   "execution_count": null,
   "metadata": {},
   "outputs": [],
   "source": [
    "# * - The asterisk (*) is a quantifier in regular expressions that Matches 0 or more occurrences of the preceding character or group. \n",
    "# * says \"repeat the thing just before me as many times as you like—including not at all.\"\n",
    "# Think of it as \"zero, one, or many.\"\n",
    "# In the pattern ab*c\n",
    "# The letter a must be there once.\n",
    "# The letter b can show up 0, 1, 2, … times, because it is followed by *.\n",
    "# The letter c must be there once, right after the last b.\n",
    "# So the pattern matches: ac, abc, abbc, abbbc, and so on.\n",
    "print(1, re.findall(r'ab*c', 'ac'))        # Matches: 'ac'\n",
    "print(2, re.findall(r'ab*c', 'abc'))       # Matches: 'abc'\n",
    "print(3, re.findall(r'ab*c', 'abbc'))      # Matches: 'abbc'\n",
    "print(4, re.findall(r'ab*c', 'abbbc'))     # Matches: 'abbbc'\n",
    "print(5, re.findall(r'ab*c', 'abbbbc'))    # Matches: 'abbbbc'\n",
    "print(6, re.findall(r'ab*c', 'fgt'))       # Does not match\n",
    "print(7, re.findall(r'ab*c', 'cab'))       # Does not match\n",
    "print(8, re.findall(r'ab*c', 'atc'))       # Does not match\n",
    "print(9, re.findall(r'ab*c', 'bca'))       # Does not match\n",
    "print(10, re.findall(r'ab*c', 'cba'))      # Does not match"
   ]
  },
  {
   "cell_type": "code",
   "execution_count": null,
   "metadata": {},
   "outputs": [],
   "source": [
    "# + - The + quantifier applies to the character or group immediately preceding it.\n",
    "# + requires at least one occurrence of the preceding element.\n",
    "# Remember that * allows for zero or more occurrences, meaning the element can be completely absent and still result in a match.\n",
    "print(1, re.findall(r'ab+c', 'ac'))       \n",
    "print(2, re.findall(r'ab+c', 'abc'))      \n",
    "print(3, re.findall(r'ab+c', 'abbc'))      \n",
    "print(4, re.findall(r'ab+c', 'abbbc'))     \n",
    "print(5, re.findall(r'ab+c', 'abbbbc'))    \n",
    "print(6, re.findall(r'ab+c', 'fgt'))      \n",
    "print(7, re.findall(r'ab+c', 'cab'))        \n",
    "print(8, re.findall(r'ab+c', 'atc'))      \n",
    "print(9, re.findall(r'ab+c', 'bca'))      \n",
    "print(10, re.findall(r'ab+c', 'cba'))     "
   ]
  },
  {
   "cell_type": "code",
   "execution_count": null,
   "metadata": {},
   "outputs": [],
   "source": [
    "# ? - means the preceding character is optional (0 or 1 times)\n",
    "print(1, re.findall(r'honou?r', 'honor honour'))\n",
    "print(2, re.findall(r'labou?r', 'labor labour'))\n",
    "print(3, re.findall(r'neighbou?r', 'neighbor neighbour neighbouring'))\n",
    "print(4, re.findall(r'colou?ring', 'coloring colouring colourising'))\n",
    "print(5, re.findall(r'modell?ing', 'modeling modelling model'))\n",
    "print(6, re.findall(r'valu?e', 'vale value evaluate'))"
   ]
  },
  {
   "cell_type": "code",
   "execution_count": null,
   "metadata": {},
   "outputs": [],
   "source": [
    "# {n} - matches exactly n occurrences of the preceding pattern\n",
    "# Matches any 3-digit number (exactly three digits in a row)\n",
    "print(1, re.findall(r'\\d{3}', '123 456 78 9012'))\n",
    "# Matches 2 digits followed by a space, then 2 digits. BUT! re.findall() by default does not return overlapping matches.\n",
    "print(2, re.findall(r'\\d{2}\\s{1}\\d{2}', '12 34 56 78'))\n",
    "# Matches a digit, then a space, then a word character, all repeated 2 times\n",
    "print(3, re.findall(r'(\\d{1}\\s{1}\\w{1}){2}', '1 a2 b 3c'))\n",
    "# Matches any 4-digit number\n",
    "print(4, re.findall(r'\\d{4}', 'Year 2023, code 1234, pin 9876'))\n",
    "# Matches 1 word character, 1 digit, and 1 space, repeated pattern\n",
    "print(5, re.findall(r'(\\w{1}\\d{1}\\s{1}){2}', 'a1 b2 c3'))\n",
    "# Matches 2 word characters followed by exactly 3 digits\n",
    "print(6, re.findall(r'\\w{2}\\d{3}', 'ab123 cd456 ef789'))\n",
    "# Matches 3 digits followed by 1 word character\n",
    "print(7, re.findall(r'\\d{3}\\w{1}', '123a 456b 789c'))\n",
    "# Matches any sequence of 5 digits\n",
    "print(8, re.findall(r'\\d{5}', 'Zip: 90210 Code: 12345'))\n",
    "# Matches 1 digit, 1 word character, and 1 space\n",
    "print(9, re.findall(r'\\d{1}\\w{1}\\s{1}', '1a 2b 3c 4d'))"
   ]
  },
  {
   "cell_type": "code",
   "execution_count": null,
   "metadata": {},
   "outputs": [],
   "source": [
    "# {n,m} - matches between n and m occurrences\n",
    "print(re.findall(r'\\d{2,4}', '0 12 345 6789 101112 13141516'))  # matches 2 - 4 digits in a row"
   ]
  },
  {
   "cell_type": "markdown",
   "metadata": {},
   "source": [
    "# Character Classes and Anchors"
   ]
  },
  {
   "cell_type": "code",
   "execution_count": null,
   "metadata": {},
   "outputs": [],
   "source": [
    "# [abc] - matches any one character from the set\n",
    "print(re.findall(r'[aeiou]', 'hello world'))  # matches vowels"
   ]
  },
  {
   "cell_type": "code",
   "execution_count": null,
   "metadata": {},
   "outputs": [],
   "source": [
    "# [^abc] - matches any one character NOT in the set\n",
    "print(re.findall(r'[^aeiou]', 'hello'))  # matches non-vowel characters"
   ]
  },
  {
   "cell_type": "code",
   "execution_count": null,
   "metadata": {},
   "outputs": [],
   "source": [
    "# [a-z] - matches any one character in the range\n",
    "print(re.findall(r'[a-c]', 'abcdefgAB'))  # matches a, b, or c"
   ]
  },
  {
   "cell_type": "code",
   "execution_count": null,
   "metadata": {},
   "outputs": [],
   "source": [
    "# ^ - matches the start of the string\n",
    "print(re.findall(r'^hello', 'hello world\\nhello there'))  # matches 'hello' only if at the start"
   ]
  },
  {
   "cell_type": "code",
   "execution_count": null,
   "metadata": {},
   "outputs": [],
   "source": [
    "# $ - matches the end of the string\n",
    "print(re.findall(r'world$', 'hello world\\nbye world'))  # matches 'world' only if at the end"
   ]
  },
  {
   "cell_type": "markdown",
   "metadata": {},
   "source": [
    "# Special Patterns"
   ]
  },
  {
   "cell_type": "code",
   "execution_count": null,
   "metadata": {},
   "outputs": [],
   "source": [
    "# The parentheses () create a capturing group that extracts matched portions\n",
    "# Multiple groups like (abc)-(def) capture separate parts of a pattern\n",
    "# \\d+ matches one or more digits (0-9)\n",
    "# In the example below, (\\d+)-(\\d+) captures two groups of digits separated by a hyphen\n",
    "my_str = 'Order: 123-456 has been processed but 789-012 is pending'\n",
    "print(re.findall(r'(\\d+)-(\\d+)', my_str))"
   ]
  },
  {
   "cell_type": "code",
   "execution_count": null,
   "metadata": {},
   "outputs": [],
   "source": [
    "match = re.search(r'(\\d+)-(\\d+)', my_str)\n",
    "print(match.groups())  # returns matched groups\n",
    "# If you want to find all occurrences of the pattern in the string, you should use re.findall"
   ]
  },
  {
   "cell_type": "code",
   "execution_count": null,
   "metadata": {},
   "outputs": [],
   "source": [
    "# If you want to find all occurrences of the pattern in the string, you should use re.findall\n",
    "matches = re.findall(r'(\\d+)-(\\d+)', my_str)\n",
    "for match in matches:\n",
    "    print(match) "
   ]
  },
  {
   "cell_type": "code",
   "execution_count": null,
   "metadata": {},
   "outputs": [],
   "source": [
    "# | - means OR between patterns\n",
    "\n",
    "my_str = 'I have a cat and a dog, and another cat'\n",
    "\n",
    "# The re.search function finds the first occurrence of either \"cat\" or \"dog\"\n",
    "match = re.search(r'cat|dog', my_str)\n",
    "print(match.group())  \n",
    "\n",
    "# The re.findall function finds all occurrences of either \"cat\" or \"dog\"\n",
    "matches = re.findall(r'cat|dog', my_str)\n",
    "print(matches)  \n",
    "\n",
    "# Use a set to get unique matches\n",
    "unique_matches = set(matches)\n",
    "print(unique_matches)"
   ]
  },
  {
   "cell_type": "markdown",
   "metadata": {},
   "source": [
    "# Common Use Cases"
   ]
  },
  {
   "cell_type": "code",
   "execution_count": null,
   "metadata": {},
   "outputs": [],
   "source": [
    "import re\n",
    "\n",
    "# Email pattern:\n",
    "# r\"...\" makes it a raw string, so Python doesn't interpret backslashes (\\) as escape characters.\n",
    "\n",
    "# [a-zA-Z0-9_.+-]+       # Matches one or more of:\n",
    "#                        #   letters (a-z, A-Z)\n",
    "#                        #   digits (0-9)\n",
    "#                        #   underscore (_), dot (.), plus (+), or hyphen (-)\n",
    "#                        # This is the local part of the email before the \"@\" symbol.\n",
    "\n",
    "# @                      # Matches the \"@\" symbol that separates local and domain parts.\n",
    "\n",
    "# [a-zA-Z0-9-]+          # Matches one or more of:\n",
    "#                        #   letters, digits, or hyphens (-)\n",
    "#                        # This is the main domain name (e.g., \"example\").\n",
    "\n",
    "# \\.                     # Matches a literal dot \".\" between the domain and TLD.\n",
    "\n",
    "# [a-zA-Z0-9-.]+         # Matches one or more of:\n",
    "#                        #   letters, digits, hyphens, or additional dots\n",
    "#                        # Supports subdomains and multi-part TLDs (e.g., \"co.uk\", \"mail-server.com\").\n",
    "\n",
    "email_pattern = r\"[a-zA-Z0-9_.+-]+@[a-zA-Z0-9-]+\\.[a-zA-Z0-9-.]+\"\n",
    "\n",
    "text = \"Contact us at support@example.com, sales@company.co.uk, or info@mail-server.net.\"\n",
    "\n",
    "emails = re.findall(email_pattern, text)\n",
    "print(emails)"
   ]
  },
  {
   "cell_type": "code",
   "execution_count": null,
   "metadata": {},
   "outputs": [],
   "source": [
    "# URL pattern:\n",
    "# This regex matches URLs with protocols (http, https, ftp) embedded within a larger text\n",
    "url_pattern = r\"(?:https?|ftp)://[^\\s/$.?#].[^\\s]*\"\n",
    "\n",
    "# Explanation of the pattern:\n",
    "\n",
    "# (?:https?|ftp)         # Non-capturing group for the protocol part:\n",
    "#                        #   http        → matches 'http'\n",
    "#                        #   s?          → optionally matches 's' (so it matches 'https' too)\n",
    "#                        #   | ftp       → or matches 'ftp'\n",
    "#                        #   (?:...)     → non-capturing group to avoid breaking re.findall()\n",
    "\n",
    "# ://                   # Literal match of '://'\n",
    "#                       #   / is escaped as \\/ to match actual forward slashes\n",
    "\n",
    "# [^\\s/$.?#]            # The first character after '://' must not be:\n",
    "#                       #   \\s           → whitespace (space, newline, tab)\n",
    "#                       #   / $. ? #     → common URL terminators or delimiters\n",
    "#                       # This ensures we don't accidentally match something like 'http://.com'\n",
    "\n",
    "# .                     # Matches any single character (except newline)\n",
    "#                       # Used with the previous char class to require at least one valid character\n",
    "\n",
    "# [^\\s]*                # Matches the rest of the URL, consisting of zero or more non-whitespace characters\n",
    "#                       # This allows matching full domain, path, query strings, etc.\n",
    "\n",
    "print(re.findall(url_pattern, 'Visit https://example.com or http://test.org'))  # matches URLs"
   ]
  },
  {
   "cell_type": "code",
   "execution_count": null,
   "metadata": {},
   "outputs": [],
   "source": [
    "# You can use the re.sub function to replace all occurrences of a pattern with a new string\n",
    "print(re.sub(url_pattern, 'URL', 'Visit https://example.com or http://test.org'))  # replaces URLs with 'URL'"
   ]
  },
  {
   "cell_type": "code",
   "execution_count": null,
   "metadata": {},
   "outputs": [],
   "source": [
    "# Phone number pattern:\n",
    "phone_pattern = (\n",
    "    r\"\\b\"                 # word boundary – avoids matching inside longer strings\n",
    "    r\"(?:\\+?1[-.\\s]?)?\"   # optional country code: +1, 1-, 1 , …\n",
    "    r\"(?:\\([2-9]\\d{2}\\)|[2-9]\\d{2})\"  # area code: (555) or 555; first digit 2-9\n",
    "    r\"[-.\\s]?\"            # optional separator (dash, dot, space, or nothing)\n",
    "    r\"[2-9]\\d{2}\"         # prefix; first digit 2-9\n",
    "    r\"[-.\\s]?\"            # optional separator\n",
    "    r\"\\d{4}\"              # line number\n",
    "    r\"\\b\"                 # closing word boundary\n",
    ")\n",
    "\n",
    "text = \"Call (123) 456-7890, 987.654.3210 or +1 800 555 1212 now!\"\n",
    "print(re.findall(phone_pattern, text))"
   ]
  },
  {
   "cell_type": "code",
   "execution_count": null,
   "metadata": {},
   "outputs": [],
   "source": [
    "# Decimal number pattern:\n",
    "# \\d+ - Matches one or more digits before the decimal point\n",
    "# \\. - Matches a literal dot (escaped with \\) since dot is a special character in regex that matches any character\n",
    "# \\d+ - Matches one or more digits after the decimal point\n",
    "# This pattern will find numbers like 10.99, 3.14, 0.5, etc. in text\n",
    "print(re.findall(r'\\d+\\.\\d+', 'Prices: from 10.99 to 14.99'))  "
   ]
  }
 ],
 "metadata": {
  "kernelspec": {
   "display_name": "Python 3",
   "language": "python",
   "name": "python3"
  },
  "language_info": {
   "codemirror_mode": {
    "name": "ipython",
    "version": 3
   },
   "file_extension": ".py",
   "mimetype": "text/x-python",
   "name": "python",
   "nbconvert_exporter": "python",
   "pygments_lexer": "ipython3",
   "version": "3.12.6"
  }
 },
 "nbformat": 4,
 "nbformat_minor": 2
}
